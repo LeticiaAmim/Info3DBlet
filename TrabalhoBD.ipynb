{
  "nbformat": 4,
  "nbformat_minor": 0,
  "metadata": {
    "colab": {
      "provenance": [],
      "authorship_tag": "ABX9TyOYCnZjhsyDnfIeUsdfjJ7c",
      "include_colab_link": true
    },
    "kernelspec": {
      "name": "python3",
      "display_name": "Python 3"
    },
    "language_info": {
      "name": "python"
    }
  },
  "cells": [
    {
      "cell_type": "markdown",
      "metadata": {
        "id": "view-in-github",
        "colab_type": "text"
      },
      "source": [
        "<a href=\"https://colab.research.google.com/github/LeticiaAmim/Info3DBlet/blob/main/TrabalhoBD.ipynb\" target=\"_parent\"><img src=\"https://colab.research.google.com/assets/colab-badge.svg\" alt=\"Open In Colab\"/></a>"
      ]
    },
    {
      "cell_type": "code",
      "execution_count": null,
      "metadata": {
        "id": "jdw2WOb9LK55"
      },
      "outputs": [],
      "source": [
        "connection = sqlite3.connect(\"financas.sqlite\")\n",
        "\n",
        "query = \"\"\"\n",
        "create table usuario(\n",
        "\tid_usuario integer primary key autoincrement,\n",
        "  nome varchar(100),\n",
        "  email varchar(100),\n",
        "  celular char(15),\n",
        "  senha varchar(100)\n",
        ");\n",
        "\"\"\"\n",
        "execute_query(connection, query)\n",
        "\n",
        "query = \"\"\"\n",
        "create table card(\n",
        "\tid_card integer primary key autoincrement,\n",
        "  descricao text,\n",
        "  resumo varchar (140),\n",
        "  titulo varchar(100)\n",
        ");\n",
        "\"\"\"\n",
        "execute_query(connection, query)\n",
        "\n",
        "query = \"\"\"\n",
        "create table avaliacao(\n",
        "\tid_avaliacao integer primary key autoincrement,\n",
        "  nota float,\n",
        "  comentario varchar(140),\n",
        "  dataAvaliacao date\n",
        ");\n",
        "\"\"\"\n",
        "execute_query(connection, query)\n",
        "\n",
        "query = \"\"\"\n",
        "create table vocabulario(\n",
        "\tid_vocabulario integer primary key autoincrement,\n",
        "  tituloVocabulario varchar(140)\n",
        ");\n",
        "\"\"\"\n",
        "execute_query(connection, query)\n",
        "\n",
        "# -- Relacionamento\n",
        "query = \"\"\"\n",
        "create table avaliar (\n",
        "    id_usuario integer,\n",
        "    id_avaliacao integer,\n",
        "    primary key (id_usuario, id_avaliacao),\n",
        "    foreign key (id_usuario) references Usuario(id_usuario),\n",
        "    foreign key (id_avaliacao) references Avaliacao(id_avaliacao)\n",
        ");\n",
        "\"\"\"\n",
        "execute_query(connection, query)\n",
        "\n",
        "query = \"\"\"\n",
        "create table visualizar (\n",
        "    id_usuario integer,\n",
        "    id_vocabulario integer,\n",
        "    primary key (id_usuario, id_vocabulario),\n",
        "    foreign key (id_usuario) references Usuario(id_usuario),\n",
        "    foreign key (id_vocabulario) references Vocabulario(id_vocabulario)\n",
        ");\n",
        "\"\"\"\n",
        "execute_query(connection, query)\n",
        "\n",
        "query = \"\"\"\n",
        "create table favoritar (\n",
        "    id_usuario integer,\n",
        "    id_card integer,\n",
        "    primary key (id_usuario, id_card),\n",
        "    foreign key (id_usuario) references Usuario(id_usuario),\n",
        "    foreign key (id_card) references Card(id_card)\n",
        ");\n",
        "\"\"\"\n",
        "execute_query(connection, query)"
      ]
    },
    {
      "cell_type": "markdown",
      "source": [
        "Atividade 01\n",
        "\n",
        "Consulta 01\n",
        "\n",
        "Objetivo da consulta (contexto de PI3):\n",
        "Contar quantos cards um usuário adicionou aos favoritos.\n",
        "\n",
        "Descrição da ação esperada ao rodar a consulta:\n",
        "A consulta usa COUNT() para contar os registros da tabela favoritar por usuário, retornando quantos cards aquele usuário favoritou.\n"
      ],
      "metadata": {
        "id": "8GYLOwrKL6Bb"
      }
    },
    {
      "cell_type": "code",
      "source": [
        "SELECT id_usuario, COUNT(id_card) AS total_favoritos\n",
        "FROM favoritar\n",
        "GROUP BY id_usuario;"
      ],
      "metadata": {
        "id": "qnA7GfyUMGIK"
      },
      "execution_count": null,
      "outputs": []
    },
    {
      "cell_type": "markdown",
      "source": [
        "CONSULTA 2\n",
        "\n",
        "Objetivo da consulta (contexto de PI3):\n",
        "Calcular a média das avaliações feitas pelos usuários para fins de análise de satisfação geral da aplicação.\n",
        "\n",
        "Descrição da ação esperada ao rodar a consulta:\n",
        "A consulta usa AVG() para calcular a média de notas da tabela avaliacao."
      ],
      "metadata": {
        "id": "YYMcyTg4MGmq"
      }
    },
    {
      "cell_type": "code",
      "source": [
        "SELECT AVG(nota) AS media_avaliacoes\n",
        "FROM avaliacao;\n"
      ],
      "metadata": {
        "id": "Vj0IK9unMJBz"
      },
      "execution_count": null,
      "outputs": []
    },
    {
      "cell_type": "markdown",
      "source": [
        "Atividade 02\n",
        "CONSULTA COM 3 ENTIDADES\n",
        "\n",
        "Objetivo da consulta (contexto de PI3):\n",
        "Listar os usuários que avaliaram cards, mostrando o nome do usuário, a nota dada e a data da avaliação.\n",
        "\n",
        "Descrição da ação esperada ao rodar a consulta:\n",
        "Relacionar as tabelas usuario, avaliar e avaliacao para mostrar quem avaliou o quê, com qual nota e em qual data."
      ],
      "metadata": {
        "id": "6T_6Rl4hMKo6"
      }
    },
    {
      "cell_type": "code",
      "source": [
        "SELECT u.nome, a.nota, a.dataAvaliacao\n",
        "FROM usuario u\n",
        "JOIN avaliar av ON u.id_usuario = av.id_usuario\n",
        "JOIN avaliacao a ON av.id_avaliacao = a.id_avaliacao;"
      ],
      "metadata": {
        "id": "3HDv_ReQMgnz"
      },
      "execution_count": null,
      "outputs": []
    },
    {
      "cell_type": "markdown",
      "source": [
        "Atividade 03\n",
        "\n",
        "Justificativa para que a consulta seja uma View (Contexto de PI3):\n",
        "\n",
        "Consultar as avaliações feitas por usuários é algo frequente para exibir em painéis administrativos ou em perfis de usuário. Por isso, é útil criar uma VIEW para facilitar o acesso.\n",
        "\n",
        "Descrição da ação esperada ao rodar a consulta:\n",
        "\n",
        "Retornar nome do usuário, nota, comentário e data da avaliação."
      ],
      "metadata": {
        "id": "1GdJVBfTMk7y"
      }
    },
    {
      "cell_type": "code",
      "source": [
        "VIEW\n",
        "CREATE VIEW vw_avaliacoes_usuarios AS\n",
        "SELECT u.nome, a.nota, a.comentario, a.dataAvaliacao\n",
        "FROM usuario u\n",
        "JOIN avaliar av ON u.id_usuario = av.id_usuario\n",
        "JOIN avaliacao a ON av.id_avaliacao = a.id_avaliacao;\n",
        "\n",
        "SELECT PARA EXIBIR TODOS OS DADOS DA VIEW\n",
        "SELECT * FROM vw_avaliacoes_usuarios;"
      ],
      "metadata": {
        "id": "8RuKqaptNJIC"
      },
      "execution_count": null,
      "outputs": []
    },
    {
      "cell_type": "markdown",
      "source": [
        "Atividade 04\n",
        "\n",
        "Justificativa para que a operação seja um Procedure (Contexto de PI3):\n",
        "\n",
        "Cadastrar uma nova avaliação é uma ação comum na aplicação, e o procedimento automatiza isso para evitar repetição de código e garantir que todos os dados necessários sejam inseridos corretamente.\n",
        "\n",
        "Descrição da ação esperada ao executar o procedure:\n",
        "\n",
        "Inserir uma nova avaliação e vincular essa avaliação a um usuário."
      ],
      "metadata": {
        "id": "ccBOa-DHNL6y"
      }
    },
    {
      "cell_type": "code",
      "source": [
        "CREATE PROCEDURE sp_inserir_avaliacao (\n",
        "    IN p_nota FLOAT,\n",
        "    IN p_comentario VARCHAR(140),\n",
        "    IN p_data DATE,\n",
        "    IN p_id_usuario INTEGER\n",
        ")\n",
        "BEGIN\n",
        "    INSERT INTO avaliacao (nota, comentario, dataAvaliacao)\n",
        "    VALUES (p_nota, p_comentario, p_data);\n",
        "\n",
        "    INSERT INTO avaliar (id_usuario, id_avaliacao)\n",
        "    VALUES (p_id_usuario, last_insert_rowid());\n",
        "END;\n",
        "\n",
        "EXECUÇÃO DO PROCEDURE (representação)\n",
        "CALL sp_inserir_avaliacao(4.5, 'Muito bom!', '2025-09-15', 1);"
      ],
      "metadata": {
        "id": "LBrmj2AbNmi6"
      },
      "execution_count": null,
      "outputs": []
    },
    {
      "cell_type": "markdown",
      "source": [
        "Atividade 05\n",
        "\n",
        "Justificativa para que a operação seja uma Function (Contexto de PI3):\n",
        "\n",
        "Calcular quantos cards um usuário favoritou é uma lógica que pode ser usada em perfis, dashboards e relatórios. Criar uma função facilita o reuso.\n",
        "\n",
        "Descrição da operação realizada e valor retornado pela Function:\n",
        "\n",
        "A função recebe um id_usuario e retorna a quantidade de cards que ele favoritou."
      ],
      "metadata": {
        "id": "gzb3gAThOFTb"
      }
    },
    {
      "cell_type": "code",
      "source": [
        "FUNCTION (em SQL padrão)\n",
        "-- Padrão SQL, não suportado diretamente no SQLite\n",
        "CREATE FUNCTION fn_total_favoritos (p_id_usuario INT)\n",
        "RETURNS INT\n",
        "BEGIN\n",
        "    DECLARE total INT;\n",
        "    SELECT COUNT(*) INTO total\n",
        "    FROM favoritar\n",
        "    WHERE id_usuario = p_id_usuario;\n",
        "    RETURN total;\n",
        "END;\n",
        "\n",
        "USO DA FUNCTION (representação)\n",
        "SELECT nome, fn_total_favoritos(id_usuario) AS qtd_favoritos\n",
        "FROM usuario;"
      ],
      "metadata": {
        "id": "jhZT7dXEOa-6"
      },
      "execution_count": null,
      "outputs": []
    },
    {
      "cell_type": "markdown",
      "source": [
        "Atividade 06\n",
        "\n",
        "Justificativa para que a operação seja um Trigger (Contexto de PI3):\n",
        "\n",
        "Manter um histórico de ações dos usuários, como favoritarem cards, é essencial para auditoria e análise de comportamento.\n",
        "\n",
        "Descrição do evento que dispara o Trigger e das operações que ele executa:\n",
        "\n",
        "Quando um card é favoritado, o trigger registra essa ação na tabela log_favoritos.\n"
      ],
      "metadata": {
        "id": "-gHWB4JcOh_C"
      }
    },
    {
      "cell_type": "code",
      "source": [
        "TRIGGER\n",
        "CREATE TABLE log_favoritos (\n",
        "    id_usuario INTEGER,\n",
        "    id_card INTEGER,\n",
        "    data_favorito DATETIME\n",
        ");\n",
        "\n",
        "CREATE TRIGGER trg_log_favorito\n",
        "AFTER INSERT ON favoritar\n",
        "FOR EACH ROW\n",
        "BEGIN\n",
        "    INSERT INTO log_favoritos (id_usuario, id_card, data_favorito)\n",
        "    VALUES (NEW.id_usuario, NEW.id_card, datetime('now'));\n",
        "END;\n",
        "\n",
        "COMANDO QUE DISPARA O TRIGGER\n",
        "INSERT INTO favoritar (id_usuario, id_card)\n",
        "VALUES (1, 2);"
      ],
      "metadata": {
        "id": "uTh16w9BOl9i"
      },
      "execution_count": null,
      "outputs": []
    }
  ]
}